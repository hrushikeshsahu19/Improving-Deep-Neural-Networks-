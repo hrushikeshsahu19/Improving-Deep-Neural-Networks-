{
  "nbformat": 4,
  "nbformat_minor": 0,
  "metadata": {
    "coursera": {
      "course_slug": "deep-neural-network",
      "graded_item_id": "n6NBD",
      "launcher_item_id": "yfOsE"
    },
    "kernelspec": {
      "display_name": "Python 3",
      "language": "python",
      "name": "python3"
    },
    "language_info": {
      "codemirror_mode": {
        "name": "ipython",
        "version": 3
      },
      "file_extension": ".py",
      "mimetype": "text/x-python",
      "name": "python",
      "nbconvert_exporter": "python",
      "pygments_lexer": "ipython3",
      "version": "3.6.0"
    },
    "colab": {
      "name": "Hrushikesh_Sahu_Gradient Checking v1.ipynb",
      "provenance": [],
      "include_colab_link": true
    }
  },
  "cells": [
    {
      "cell_type": "markdown",
      "metadata": {
        "id": "view-in-github",
        "colab_type": "text"
      },
      "source": [
        "<a href=\"https://colab.research.google.com/github/hrushikeshsahu19/Improving-Deep-Neural-Networks-/blob/main/Hrushikesh_Sahu_Gradient_Checking_v1.ipynb\" target=\"_parent\"><img src=\"https://colab.research.google.com/assets/colab-badge.svg\" alt=\"Open In Colab\"/></a>"
      ]
    },
    {
      "cell_type": "markdown",
      "metadata": {
        "id": "4dp1cI5tsoqn"
      },
      "source": [
        "# Gradient Checking\n",
        "\n",
        "Welcome to the final assignment for this week! In this assignment you will learn to implement and use gradient checking. \n",
        "\n",
        "You are part of a team working to make mobile payments available globally, and are asked to build a deep learning model to detect fraud--whenever someone makes a payment, you want to see if the payment might be fraudulent, such as if the user's account has been taken over by a hacker. \n",
        "\n",
        "But backpropagation is quite challenging to implement, and sometimes has bugs. Because this is a mission-critical application, your company's CEO wants to be really certain that your implementation of backpropagation is correct. Your CEO says, \"Give me a proof that your backpropagation is actually working!\" To give this reassurance, you are going to use \"gradient checking\".\n",
        "\n",
        "Let's do it!"
      ]
    },
    {
      "cell_type": "code",
      "metadata": {
        "id": "nYXjxGV2s57e"
      },
      "source": [
        "import numpy as np\r\n",
        "\r\n",
        "def sigmoid(x):\r\n",
        "    \"\"\"\r\n",
        "    Compute the sigmoid of x\r\n",
        "\r\n",
        "    Arguments:\r\n",
        "    x -- A scalar or numpy array of any size.\r\n",
        "\r\n",
        "    Return:\r\n",
        "    s -- sigmoid(x)\r\n",
        "    \"\"\"\r\n",
        "    s = 1/(1+np.exp(-x))\r\n",
        "    return s\r\n",
        "\r\n",
        "def relu(x):\r\n",
        "    \"\"\"\r\n",
        "    Compute the relu of x\r\n",
        "\r\n",
        "    Arguments:\r\n",
        "    x -- A scalar or numpy array of any size.\r\n",
        "\r\n",
        "    Return:\r\n",
        "    s -- relu(x)\r\n",
        "    \"\"\"\r\n",
        "    s = np.maximum(0,x)\r\n",
        "    \r\n",
        "    return s\r\n",
        "\r\n",
        "def dictionary_to_vector(parameters):\r\n",
        "    \"\"\"\r\n",
        "    Roll all our parameters dictionary into a single vector satisfying our specific required shape.\r\n",
        "    \"\"\"\r\n",
        "    keys = []\r\n",
        "    count = 0\r\n",
        "    for key in [\"W1\", \"b1\", \"W2\", \"b2\", \"W3\", \"b3\"]:\r\n",
        "        \r\n",
        "        # flatten parameter\r\n",
        "        new_vector = np.reshape(parameters[key], (-1,1))\r\n",
        "        keys = keys + [key]*new_vector.shape[0]\r\n",
        "        \r\n",
        "        if count == 0:\r\n",
        "            theta = new_vector\r\n",
        "        else:\r\n",
        "            theta = np.concatenate((theta, new_vector), axis=0)\r\n",
        "        count = count + 1\r\n",
        "\r\n",
        "    return theta, keys\r\n",
        "\r\n",
        "def vector_to_dictionary(theta):\r\n",
        "    \"\"\"\r\n",
        "    Unroll all our parameters dictionary from a single vector satisfying our specific required shape.\r\n",
        "    \"\"\"\r\n",
        "    parameters = {}\r\n",
        "    parameters[\"W1\"] = theta[:20].reshape((5,4))\r\n",
        "    parameters[\"b1\"] = theta[20:25].reshape((5,1))\r\n",
        "    parameters[\"W2\"] = theta[25:40].reshape((3,5))\r\n",
        "    parameters[\"b2\"] = theta[40:43].reshape((3,1))\r\n",
        "    parameters[\"W3\"] = theta[43:46].reshape((1,3))\r\n",
        "    parameters[\"b3\"] = theta[46:47].reshape((1,1))\r\n",
        "\r\n",
        "    return parameters\r\n",
        "\r\n",
        "def gradients_to_vector(gradients):\r\n",
        "    \"\"\"\r\n",
        "    Roll all our gradients dictionary into a single vector satisfying our specific required shape.\r\n",
        "    \"\"\"\r\n",
        "    \r\n",
        "    count = 0\r\n",
        "    for key in [\"dW1\", \"db1\", \"dW2\", \"db2\", \"dW3\", \"db3\"]:\r\n",
        "        # flatten parameter\r\n",
        "        new_vector = np.reshape(gradients[key], (-1,1))\r\n",
        "        \r\n",
        "        if count == 0:\r\n",
        "            theta = new_vector\r\n",
        "        else:\r\n",
        "            theta = np.concatenate((theta, new_vector), axis=0)\r\n",
        "        count = count + 1\r\n",
        "\r\n",
        "    return theta"
      ],
      "execution_count": null,
      "outputs": []
    },
    {
      "cell_type": "code",
      "metadata": {
        "id": "BCbHy6VBs6ET"
      },
      "source": [
        "import numpy as np\r\n",
        "\r\n",
        "def gradient_check_n_test_case(): \r\n",
        "    np.random.seed(1)\r\n",
        "    x = np.random.randn(4,3)\r\n",
        "    y = np.array([1, 1, 0])\r\n",
        "    W1 = np.random.randn(5,4) \r\n",
        "    b1 = np.random.randn(5,1) \r\n",
        "    W2 = np.random.randn(3,5) \r\n",
        "    b2 = np.random.randn(3,1) \r\n",
        "    W3 = np.random.randn(1,3) \r\n",
        "    b3 = np.random.randn(1,1) \r\n",
        "    parameters = {\"W1\": W1,\r\n",
        "                  \"b1\": b1,\r\n",
        "                  \"W2\": W2,\r\n",
        "                  \"b2\": b2,\r\n",
        "                  \"W3\": W3,\r\n",
        "                  \"b3\": b3}\r\n",
        "\r\n",
        "    \r\n",
        "    return x, y, parameters"
      ],
      "execution_count": null,
      "outputs": []
    },
    {
      "cell_type": "code",
      "metadata": {
        "collapsed": true,
        "id": "iCSMy8fYsorB"
      },
      "source": [
        "# Packages\n",
        "import numpy as np\n",
        "#from testCases import *\n",
        "#from gc_utils import sigmoid, relu, dictionary_to_vector, vector_to_dictionary, gradients_to_vector"
      ],
      "execution_count": null,
      "outputs": []
    },
    {
      "cell_type": "markdown",
      "metadata": {
        "id": "_CLvSXsgsorE"
      },
      "source": [
        "## 1) How does gradient checking work?\n",
        "\n",
        "Backpropagation computes the gradients $\\frac{\\partial J}{\\partial \\theta}$, where $\\theta$ denotes the parameters of the model. $J$ is computed using forward propagation and your loss function.\n",
        "\n",
        "Because forward propagation is relatively easy to implement, you're confident you got that right, and so you're almost  100% sure that you're computing the cost $J$ correctly. Thus, you can use your code for computing $J$ to verify the code for computing $\\frac{\\partial J}{\\partial \\theta}$. \n",
        "\n",
        "Let's look back at the definition of a derivative (or gradient):\n",
        "$$ \\frac{\\partial J}{\\partial \\theta} = \\lim_{\\varepsilon \\to 0} \\frac{J(\\theta + \\varepsilon) - J(\\theta - \\varepsilon)}{2 \\varepsilon} \\tag{1}$$\n",
        "\n",
        "If you're not familiar with the \"$\\displaystyle \\lim_{\\varepsilon \\to 0}$\" notation, it's just a way of saying \"when $\\varepsilon$ is really really small.\"\n",
        "\n",
        "We know the following:\n",
        "\n",
        "- $\\frac{\\partial J}{\\partial \\theta}$ is what you want to make sure you're computing correctly. \n",
        "- You can compute $J(\\theta + \\varepsilon)$ and $J(\\theta - \\varepsilon)$ (in the case that $\\theta$ is a real number), since you're confident your implementation for $J$ is correct. \n",
        "\n",
        "Lets use equation (1) and a small value for $\\varepsilon$ to convince your CEO that your code for computing  $\\frac{\\partial J}{\\partial \\theta}$ is correct!"
      ]
    },
    {
      "cell_type": "markdown",
      "metadata": {
        "id": "l3uQq9zusorH"
      },
      "source": [
        "## 2) 1-dimensional gradient checking\n",
        "\n",
        "Consider a 1D linear function $J(\\theta) = \\theta x$. The model contains only a single real-valued parameter $\\theta$, and takes $x$ as input.\n",
        "\n",
        "You will implement code to compute $J(.)$ and its derivative $\\frac{\\partial J}{\\partial \\theta}$. You will then use gradient checking to make sure your derivative computation for $J$ is correct. \n",
        "\n",
        "<img src=\"images/1Dgrad_kiank.png\" style=\"width:600px;height:250px;\">\n",
        "<caption><center> <u> **Figure 1** </u>: **1D linear model**<br> </center></caption>\n",
        "\n",
        "The diagram above shows the key computation steps: First start with $x$, then evaluate the function $J(x)$ (\"forward propagation\"). Then compute the derivative $\\frac{\\partial J}{\\partial \\theta}$ (\"backward propagation\"). \n",
        "\n",
        "**Exercise**: implement \"forward propagation\" and \"backward propagation\" for this simple function. I.e., compute both $J(.)$ (\"forward propagation\") and its derivative with respect to $\\theta$ (\"backward propagation\"), in two separate functions. "
      ]
    },
    {
      "cell_type": "code",
      "metadata": {
        "collapsed": true,
        "id": "ab2j_CSGsorJ"
      },
      "source": [
        "# GRADED FUNCTION: forward_propagation\n",
        "\n",
        "def forward_propagation(x, theta):\n",
        "    \"\"\"\n",
        "    Implement the linear forward propagation (compute J) presented in Figure 1 (J(theta) = theta * x)\n",
        "    \n",
        "    Arguments:\n",
        "    x -- a real-valued input\n",
        "    theta -- our parameter, a real number as well\n",
        "    \n",
        "    Returns:\n",
        "    J -- the value of function J, computed using the formula J(theta) = theta * x\n",
        "    \"\"\"\n",
        "    \n",
        "    ### START CODE HERE ### (approx. 1 line)\n",
        "  \n",
        "    J = np.dot(theta, x)\n",
        "    ### END CODE HERE ###\n",
        "    \n",
        "    return J"
      ],
      "execution_count": null,
      "outputs": []
    },
    {
      "cell_type": "code",
      "metadata": {
        "collapsed": true,
        "id": "di1MWy9zsorK",
        "colab": {
          "base_uri": "https://localhost:8080/"
        },
        "outputId": "c6ba6bb1-9d62-44aa-f048-ae256c9bae4a"
      },
      "source": [
        "x, theta = 2, 4\n",
        "J = forward_propagation(x, theta)\n",
        "print (\"J = \" + str(J))"
      ],
      "execution_count": null,
      "outputs": [
        {
          "output_type": "stream",
          "text": [
            "J = 8\n"
          ],
          "name": "stdout"
        }
      ]
    },
    {
      "cell_type": "markdown",
      "metadata": {
        "id": "RWUUPEVMsorL"
      },
      "source": [
        "**Expected Output**:\n",
        "\n",
        "<table style=>\n",
        "    <tr>\n",
        "        <td>  ** J **  </td>\n",
        "        <td> 8</td>\n",
        "    </tr>\n",
        "</table>"
      ]
    },
    {
      "cell_type": "markdown",
      "metadata": {
        "id": "i4wbgHoYsorM"
      },
      "source": [
        "**Exercise**: Now, implement the backward propagation step (derivative computation) of Figure 1. That is, compute the derivative of $J(\\theta) = \\theta x$ with respect to $\\theta$. To save you from doing the calculus, you should get $dtheta = \\frac { \\partial J }{ \\partial \\theta} = x$."
      ]
    },
    {
      "cell_type": "code",
      "metadata": {
        "collapsed": true,
        "id": "zGQYEIK6sorO"
      },
      "source": [
        "# GRADED FUNCTION: backward_propagation\n",
        "\n",
        "def backward_propagation(x, theta):\n",
        "    \"\"\"\n",
        "    Computes the derivative of J with respect to theta (see Figure 1).\n",
        "    \n",
        "    Arguments:\n",
        "    x -- a real-valued input\n",
        "    theta -- our parameter, a real number as well\n",
        "    \n",
        "    Returns:\n",
        "    dtheta -- the gradient of the cost with respect to theta\n",
        "    \"\"\"\n",
        "    \n",
        "    ### START CODE HERE ### (approx. 1 line)\n",
        "    dtheta = x\n",
        "    ### END CODE HERE ###\n",
        "    \n",
        "    return dtheta"
      ],
      "execution_count": null,
      "outputs": []
    },
    {
      "cell_type": "code",
      "metadata": {
        "collapsed": true,
        "scrolled": true,
        "id": "VwH98n68sorP",
        "colab": {
          "base_uri": "https://localhost:8080/"
        },
        "outputId": "934fde54-3f46-49d5-d101-e9fbdf21b8e8"
      },
      "source": [
        "x, theta = 2, 4\n",
        "dtheta = backward_propagation(x, theta)\n",
        "print (\"dtheta = \" + str(dtheta))"
      ],
      "execution_count": null,
      "outputs": [
        {
          "output_type": "stream",
          "text": [
            "dtheta = 2\n"
          ],
          "name": "stdout"
        }
      ]
    },
    {
      "cell_type": "markdown",
      "metadata": {
        "id": "dPUKYiO3sorQ"
      },
      "source": [
        "**Expected Output**:\n",
        "\n",
        "<table>\n",
        "    <tr>\n",
        "        <td>  ** dtheta **  </td>\n",
        "        <td> 2 </td>\n",
        "    </tr>\n",
        "</table>"
      ]
    },
    {
      "cell_type": "markdown",
      "metadata": {
        "id": "JDxV-JRgsorR"
      },
      "source": [
        "**Exercise**: To show that the `backward_propagation()` function is correctly computing the gradient $\\frac{\\partial J}{\\partial \\theta}$, let's implement gradient checking.\n",
        "\n",
        "**Instructions**:\n",
        "- First compute \"gradapprox\" using the formula above (1) and a small value of $\\varepsilon$. Here are the Steps to follow:\n",
        "    1. $\\theta^{+} = \\theta + \\varepsilon$\n",
        "    2. $\\theta^{-} = \\theta - \\varepsilon$\n",
        "    3. $J^{+} = J(\\theta^{+})$\n",
        "    4. $J^{-} = J(\\theta^{-})$\n",
        "    5. $gradapprox = \\frac{J^{+} - J^{-}}{2  \\varepsilon}$\n",
        "- Then compute the gradient using backward propagation, and store the result in a variable \"grad\"\n",
        "- Finally, compute the relative difference between \"gradapprox\" and the \"grad\" using the following formula:\n",
        "$$ difference = \\frac {\\mid\\mid grad - gradapprox \\mid\\mid_2}{\\mid\\mid grad \\mid\\mid_2 + \\mid\\mid gradapprox \\mid\\mid_2} \\tag{2}$$\n",
        "You will need 3 Steps to compute this formula:\n",
        "   - 1'. compute the numerator using np.linalg.norm(...)\n",
        "   - 2'. compute the denominator. You will need to call np.linalg.norm(...) twice.\n",
        "   - 3'. divide them.\n",
        "- If this difference is small (say less than $10^{-7}$), you can be quite confident that you have computed your gradient correctly. Otherwise, there may be a mistake in the gradient computation. \n"
      ]
    },
    {
      "cell_type": "code",
      "metadata": {
        "id": "-YhTBI6At18X"
      },
      "source": [
        "# GRADED FUNCTION: gradient_check\r\n",
        "\r\n",
        "def gradient_check(x, theta, epsilon=1e-7):\r\n",
        "    \"\"\"\r\n",
        "    Implement the backward propagation presented in Figure 1.\r\n",
        "    \r\n",
        "    Arguments:\r\n",
        "    x -- a real-valued input\r\n",
        "    theta -- our parameter, a real number as well\r\n",
        "    epsilon -- tiny shift to the input to compute approximated gradient with formula(1)\r\n",
        "    \r\n",
        "    Returns:\r\n",
        "    difference -- difference (2) between the approximated gradient and the backward propagation gradient\r\n",
        "    \"\"\"\r\n",
        "    \r\n",
        "    # Compute gradapprox using left side of formula (1). epsilon is small enough, you don't need to worry about the limit.\r\n",
        "    ### START CODE HERE ### (approx. 5 lines)\r\n",
        "    thetaplus = theta + epsilon                               # Step 1\r\n",
        "    thetaminus = theta - epsilon                              # Step 2\r\n",
        "    J_plus = forward_propagation(x, thetaplus)                # Step 3\r\n",
        "    J_minus = forward_propagation(x, thetaminus)              # Step 4\r\n",
        "    gradapprox = (J_plus - J_minus) / (2 * epsilon)           # Step 5\r\n",
        "    ### END CODE HERE ###\r\n",
        "    \r\n",
        "    # Check if gradapprox is close enough to the output of backward_propagation()\r\n",
        "    ### START CODE HERE ### (approx. 1 line)\r\n",
        "    grad = backward_propagation(x, theta)\r\n",
        "    ### END CODE HERE ###\r\n",
        "    \r\n",
        "    ### START CODE HERE ### (approx. 1 line)\r\n",
        "    numerator = np.linalg.norm(grad - gradapprox)                      # Step 1'\r\n",
        "    denominator = np.linalg.norm(grad) + np.linalg.norm(gradapprox)    # Step 2'\r\n",
        "    difference = numerator / denominator                               # Step 3'\r\n",
        "    ### END CODE HERE ###\r\n",
        "    \r\n",
        "    if difference < 1e-7:\r\n",
        "        print(\"The gradient is correct!\")\r\n",
        "    else:\r\n",
        "        print(\"The gradient is wrong!\")\r\n",
        "    \r\n",
        "    return difference"
      ],
      "execution_count": null,
      "outputs": []
    },
    {
      "cell_type": "code",
      "metadata": {
        "collapsed": true,
        "scrolled": true,
        "id": "L7mXP6rwsorW",
        "colab": {
          "base_uri": "https://localhost:8080/"
        },
        "outputId": "75320d68-b1e4-4625-982e-07dc79850501"
      },
      "source": [
        "x, theta = 2, 4\n",
        "difference = gradient_check(x, theta)\n",
        "print(\"difference = \" + str(difference))"
      ],
      "execution_count": null,
      "outputs": [
        {
          "output_type": "stream",
          "text": [
            "The gradient is correct!\n",
            "difference = 2.919335883291695e-10\n"
          ],
          "name": "stdout"
        }
      ]
    },
    {
      "cell_type": "markdown",
      "metadata": {
        "id": "y8pA1B4tsorX"
      },
      "source": [
        "**Expected Output**:\n",
        "The gradient is correct!\n",
        "<table>\n",
        "    <tr>\n",
        "        <td>  ** difference **  </td>\n",
        "        <td> 2.9193358103083e-10 </td>\n",
        "    </tr>\n",
        "</table>"
      ]
    },
    {
      "cell_type": "markdown",
      "metadata": {
        "id": "7FqW_NxvsorY"
      },
      "source": [
        "Congrats, the difference is smaller than the $10^{-7}$ threshold. So you can have high confidence that you've correctly computed the gradient in `backward_propagation()`. \n",
        "\n",
        "Now, in the more general case, your cost function $J$ has more than a single 1D input. When you are training a neural network, $\\theta$ actually consists of multiple matrices $W^{[l]}$ and biases $b^{[l]}$! It is important to know how to do a gradient check with higher-dimensional inputs. Let's do it!"
      ]
    },
    {
      "cell_type": "markdown",
      "metadata": {
        "id": "M2s-Sr4_sora"
      },
      "source": [
        "## 3) N-dimensional gradient checking"
      ]
    },
    {
      "cell_type": "markdown",
      "metadata": {
        "collapsed": true,
        "id": "kkxsWJy0sorb"
      },
      "source": [
        "The following figure describes the forward and backward propagation of your fraud detection model.\n",
        "\n",
        "<img src=\"images/NDgrad_kiank.png\" style=\"width:600px;height:400px;\">\n",
        "<caption><center> <u> **Figure 2** </u>: **deep neural network**<br>*LINEAR -> RELU -> LINEAR -> RELU -> LINEAR -> SIGMOID*</center></caption>\n",
        "\n",
        "Let's look at your implementations for forward propagation and backward propagation. "
      ]
    },
    {
      "cell_type": "code",
      "metadata": {
        "id": "CmgTzs4RuDD6"
      },
      "source": [
        "def forward_propagation_n(X, Y, parameters):\r\n",
        "    \"\"\"\r\n",
        "    Implements the forward propagation (and computes the cost) presented in Figure 3.\r\n",
        "    \r\n",
        "    Arguments:\r\n",
        "    X -- training set for m examples\r\n",
        "    Y -- labels for m examples \r\n",
        "    parameters -- python dictionary containing your parameters \"W1\", \"b1\", \"W2\", \"b2\", \"W3\", \"b3\":\r\n",
        "                    W1 -- weight matrix of shape (5, 4)\r\n",
        "                    b1 -- bias vector of shape (5, 1)\r\n",
        "                    W2 -- weight matrix of shape (3, 5)\r\n",
        "                    b2 -- bias vector of shape (3, 1)\r\n",
        "                    W3 -- weight matrix of shape (1, 3)\r\n",
        "                    b3 -- bias vector of shape (1, 1)\r\n",
        "    \r\n",
        "    Returns:\r\n",
        "    cost -- the cost function (logistic cost for one example)\r\n",
        "    \"\"\"\r\n",
        "    \r\n",
        "    # retrieve parameters\r\n",
        "    m = X.shape[1]\r\n",
        "    W1 = parameters[\"W1\"]\r\n",
        "    b1 = parameters[\"b1\"]\r\n",
        "    W2 = parameters[\"W2\"]\r\n",
        "    b2 = parameters[\"b2\"]\r\n",
        "    W3 = parameters[\"W3\"]\r\n",
        "    b3 = parameters[\"b3\"]\r\n",
        "\r\n",
        "    # LINEAR -> RELU -> LINEAR -> RELU -> LINEAR -> SIGMOID\r\n",
        "    Z1 = np.dot(W1, X) + b1\r\n",
        "    A1 = relu(Z1)\r\n",
        "    Z2 = np.dot(W2, A1) + b2\r\n",
        "    A2 = relu(Z2)\r\n",
        "    Z3 = np.dot(W3, A2) + b3\r\n",
        "    A3 = sigmoid(Z3)\r\n",
        "\r\n",
        "    # Cost\r\n",
        "    logprobs = np.multiply(-np.log(A3), Y) + np.multiply(-np.log(1 - A3), 1 - Y)\r\n",
        "    cost = 1. / m * np.sum(logprobs)\r\n",
        "    \r\n",
        "    cache = (Z1, A1, W1, b1, Z2, A2, W2, b2, Z3, A3, W3, b3)\r\n",
        "    \r\n",
        "    return cost, cache"
      ],
      "execution_count": null,
      "outputs": []
    },
    {
      "cell_type": "markdown",
      "metadata": {
        "id": "lxFCeQf0sorh"
      },
      "source": [
        "Now, run backward propagation."
      ]
    },
    {
      "cell_type": "code",
      "metadata": {
        "id": "nS_kjnEIuJvk"
      },
      "source": [
        "def backward_propagation_n(X, Y, cache):\r\n",
        "    \"\"\"\r\n",
        "    Implement the backward propagation presented in figure 2.\r\n",
        "    \r\n",
        "    Arguments:\r\n",
        "    X -- input datapoint, of shape (input size, 1)\r\n",
        "    Y -- true \"label\"\r\n",
        "    cache -- cache output from forward_propagation_n()\r\n",
        "    \r\n",
        "    Returns:\r\n",
        "    gradients -- A dictionary with the gradients of the cost with respect to each parameter, activation and pre-activation variables.\r\n",
        "    \"\"\"\r\n",
        "    \r\n",
        "    m = X.shape[1]\r\n",
        "    (Z1, A1, W1, b1, Z2, A2, W2, b2, Z3, A3, W3, b3) = cache\r\n",
        "    \r\n",
        "    dZ3 = A3 - Y\r\n",
        "    dW3 = 1. / m * np.dot(dZ3, A2.T)\r\n",
        "    db3 = 1. / m * np.sum(dZ3, axis=1, keepdims=True)\r\n",
        "    \r\n",
        "    dA2 = np.dot(W3.T, dZ3)\r\n",
        "    dZ2 = np.multiply(dA2, np.int64(A2 > 0))\r\n",
        "    dW2 = 1. / m * np.dot(dZ2, A1.T) * 2  # Should not multiply by 2\r\n",
        "    db2 = 1. / m * np.sum(dZ2, axis=1, keepdims=True)\r\n",
        "    \r\n",
        "    dA1 = np.dot(W2.T, dZ2)\r\n",
        "    dZ1 = np.multiply(dA1, np.int64(A1 > 0))\r\n",
        "    dW1 = 1. / m * np.dot(dZ1, X.T)\r\n",
        "    db1 = 4. / m * np.sum(dZ1, axis=1, keepdims=True) # Should not multiply by 4\r\n",
        "    \r\n",
        "    gradients = {\"dZ3\": dZ3, \"dW3\": dW3, \"db3\": db3,\r\n",
        "                 \"dA2\": dA2, \"dZ2\": dZ2, \"dW2\": dW2, \"db2\": db2,\r\n",
        "                 \"dA1\": dA1, \"dZ1\": dZ1, \"dW1\": dW1, \"db1\": db1}\r\n",
        "    \r\n",
        "    return gradients"
      ],
      "execution_count": null,
      "outputs": []
    },
    {
      "cell_type": "markdown",
      "metadata": {
        "collapsed": true,
        "id": "PGN6nTe2sorj"
      },
      "source": [
        "You obtained some results on the fraud detection test set but you are not 100% sure of your model. Nobody's perfect! Let's implement gradient checking to verify if your gradients are correct."
      ]
    },
    {
      "cell_type": "markdown",
      "metadata": {
        "id": "kxU9PsO4sork"
      },
      "source": [
        "**How does gradient checking work?**.\n",
        "\n",
        "As in 1) and 2), you want to compare \"gradapprox\" to the gradient computed by backpropagation. The formula is still:\n",
        "\n",
        "$$ \\frac{\\partial J}{\\partial \\theta} = \\lim_{\\varepsilon \\to 0} \\frac{J(\\theta + \\varepsilon) - J(\\theta - \\varepsilon)}{2 \\varepsilon} \\tag{1}$$\n",
        "\n",
        "However, $\\theta$ is not a scalar anymore. It is a dictionary called \"parameters\". We implemented a function \"`dictionary_to_vector()`\" for you. It converts the \"parameters\" dictionary into a vector called \"values\", obtained by reshaping all parameters (W1, b1, W2, b2, W3, b3) into vectors and concatenating them.\n",
        "\n",
        "The inverse function is \"`vector_to_dictionary`\" which outputs back the \"parameters\" dictionary.\n",
        "\n",
        "<img src=\"images/dictionary_to_vector.png\" style=\"width:600px;height:400px;\">\n",
        "<caption><center> <u> **Figure 2** </u>: **dictionary_to_vector() and vector_to_dictionary()**<br> You will need these functions in gradient_check_n()</center></caption>\n",
        "\n",
        "We have also converted the \"gradients\" dictionary into a vector \"grad\" using gradients_to_vector(). You don't need to worry about that.\n",
        "\n",
        "**Exercise**: Implement gradient_check_n().\n",
        "\n",
        "**Instructions**: Here is pseudo-code that will help you implement the gradient check.\n",
        "\n",
        "For each i in num_parameters:\n",
        "- To compute `J_plus[i]`:\n",
        "    1. Set $\\theta^{+}$ to `np.copy(parameters_values)`\n",
        "    2. Set $\\theta^{+}_i$ to $\\theta^{+}_i + \\varepsilon$\n",
        "    3. Calculate $J^{+}_i$ using to `forward_propagation_n(x, y, vector_to_dictionary(`$\\theta^{+}$ `))`.     \n",
        "- To compute `J_minus[i]`: do the same thing with $\\theta^{-}$\n",
        "- Compute $gradapprox[i] = \\frac{J^{+}_i - J^{-}_i}{2 \\varepsilon}$\n",
        "\n",
        "Thus, you get a vector gradapprox, where gradapprox[i] is an approximation of the gradient with respect to `parameter_values[i]`. You can now compare this gradapprox vector to the gradients vector from backpropagation. Just like for the 1D case (Steps 1', 2', 3'), compute: \n",
        "$$ difference = \\frac {\\| grad - gradapprox \\|_2}{\\| grad \\|_2 + \\| gradapprox \\|_2 } \\tag{3}$$"
      ]
    },
    {
      "cell_type": "code",
      "metadata": {
        "id": "8xqU4-uBudn4"
      },
      "source": [
        "def gradient_check_n(parameters, gradients, X, Y, epsilon=1e-7):\r\n",
        "    \"\"\"\r\n",
        "    Checks if backward_propagation_n computes correctly the gradient of the cost output by forward_propagation_n\r\n",
        "    \r\n",
        "    Arguments:\r\n",
        "    parameters -- python dictionary containing your parameters \"W1\", \"b1\", \"W2\", \"b2\", \"W3\", \"b3\":\r\n",
        "    grad -- output of backward_propagation_n, contains gradients of the cost with respect to the parameters. \r\n",
        "    x -- input datapoint, of shape (input size, 1)\r\n",
        "    y -- true \"label\"\r\n",
        "    epsilon -- tiny shift to the input to compute approximated gradient with formula(1)\r\n",
        "    \r\n",
        "    Returns:\r\n",
        "    difference -- difference (2) between the approximated gradient and the backward propagation gradient\r\n",
        "    \"\"\"\r\n",
        "    \r\n",
        "    # Set-up variables\r\n",
        "    parameters_values, _ = dictionary_to_vector(parameters)\r\n",
        "    grad = gradients_to_vector(gradients)\r\n",
        "    num_parameters = parameters_values.shape[0]\r\n",
        "    J_plus = np.zeros((num_parameters, 1))\r\n",
        "    J_minus = np.zeros((num_parameters, 1))\r\n",
        "    gradapprox = np.zeros((num_parameters, 1))\r\n",
        "    \r\n",
        "    # Compute gradapprox\r\n",
        "    for i in range(num_parameters):\r\n",
        "        \r\n",
        "        # Compute J_plus[i]. Inputs: \"parameters_values, epsilon\". Output = \"J_plus[i]\".\r\n",
        "        # \"_\" is used because the function you have to outputs two parameters but we only care about the first one\r\n",
        "        ### START CODE HERE ### (approx. 3 lines)\r\n",
        "        thetaplus =  np.copy(parameters_values)                                       # Step 1\r\n",
        "        thetaplus[i][0] = thetaplus[i][0] + epsilon                                   # Step 2\r\n",
        "        J_plus[i], _ =  forward_propagation_n(X, Y, vector_to_dictionary(thetaplus))  # Step 3\r\n",
        "        ### END CODE HERE ###\r\n",
        "        \r\n",
        "        # Compute J_minus[i]. Inputs: \"parameters_values, epsilon\". Output = \"J_minus[i]\".\r\n",
        "        ### START CODE HERE ### (approx. 3 lines)\r\n",
        "        thetaminus = np.copy(parameters_values)                                       # Step 1\r\n",
        "        thetaminus[i][0] = thetaminus[i][0] - epsilon                                 # Step 2        \r\n",
        "        J_minus[i], _ = forward_propagation_n(X, Y, vector_to_dictionary(thetaminus)) # Step 3\r\n",
        "        ### END CODE HERE ###\r\n",
        "        \r\n",
        "        # Compute gradapprox[i]\r\n",
        "        ### START CODE HERE ### (approx. 1 line)\r\n",
        "        gradapprox[i] = (J_plus[i] - J_minus[i]) / (2 * epsilon)\r\n",
        "        ### END CODE HERE ###\r\n",
        "    \r\n",
        "    # Compare gradapprox to backward propagation gradients by computing difference.\r\n",
        "    ### START CODE HERE ### (approx. 1 line)\r\n",
        "    numerator = np.linalg.norm(grad - gradapprox)                                     # Step 1'\r\n",
        "    denominator = np.linalg.norm(grad) + np.linalg.norm(gradapprox)                   # Step 2'\r\n",
        "    difference = numerator / denominator                                              # Step 3'\r\n",
        "    ### END CODE HERE ###\r\n",
        "\r\n",
        "    if difference > 1e-7:\r\n",
        "        print(\"\\033[93m\" + \"There is a mistake in the backward propagation! difference = \" + str(difference) + \"\\033[0m\")\r\n",
        "    else:\r\n",
        "        print(\"\\033[92m\" + \"Your backward propagation works perfectly fine! difference = \" + str(difference) + \"\\033[0m\")\r\n",
        "    \r\n",
        "    return difference"
      ],
      "execution_count": null,
      "outputs": []
    },
    {
      "cell_type": "code",
      "metadata": {
        "collapsed": true,
        "scrolled": false,
        "id": "Qjp7kBmgsorm",
        "colab": {
          "base_uri": "https://localhost:8080/"
        },
        "outputId": "d227d528-73fb-49c5-d696-11f80b009ebd"
      },
      "source": [
        "X, Y, parameters = gradient_check_n_test_case()\n",
        "\n",
        "cost, cache = forward_propagation_n(X, Y, parameters)\n",
        "gradients = backward_propagation_n(X, Y, cache)\n",
        "difference = gradient_check_n(parameters, gradients, X, Y)"
      ],
      "execution_count": null,
      "outputs": [
        {
          "output_type": "stream",
          "text": [
            "\u001b[93mThere is a mistake in the backward propagation! difference = 0.28509315677616237\u001b[0m\n"
          ],
          "name": "stdout"
        }
      ]
    },
    {
      "cell_type": "markdown",
      "metadata": {
        "id": "O4HWHaoDsorn"
      },
      "source": [
        "**Expected output**:\n",
        "\n",
        "<table>\n",
        "    <tr>\n",
        "        <td>  ** There is a mistake in the backward propagation!**  </td>\n",
        "        <td> difference = 0.285093156781 </td>\n",
        "    </tr>\n",
        "</table>"
      ]
    },
    {
      "cell_type": "markdown",
      "metadata": {
        "id": "CyrYkAS7soro"
      },
      "source": [
        "It seems that there were errors in the `backward_propagation_n` code we gave you! Good that you've implemented the gradient check. Go back to `backward_propagation` and try to find/correct the errors *(Hint: check dW2 and db1)*. Rerun the gradient check when you think you've fixed it. Remember you'll need to re-execute the cell defining `backward_propagation_n()` if you modify the code. \n",
        "\n",
        "Can you get gradient check to declare your derivative computation correct? Even though this part of the assignment isn't graded, we strongly urge you to try to find the bug and re-run gradient check until you're convinced backprop is now correctly implemented. \n",
        "\n",
        "**Note** \n",
        "- Gradient Checking is slow! Approximating the gradient with $\\frac{\\partial J}{\\partial \\theta} \\approx  \\frac{J(\\theta + \\varepsilon) - J(\\theta - \\varepsilon)}{2 \\varepsilon}$ is computationally costly. For this reason, we don't run gradient checking at every iteration during training. Just a few times to check if the gradient is correct. \n",
        "- Gradient Checking, at least as we've presented it, doesn't work with dropout. You would usually run the gradient check algorithm without dropout to make sure your backprop is correct, then add dropout. \n",
        "\n",
        "Congrats, you can be confident that your deep learning model for fraud detection is working correctly! You can even use this to convince your CEO. :) \n",
        "\n",
        "<font color='blue'>\n",
        "**What you should remember from this notebook**:\n",
        "- Gradient checking verifies closeness between the gradients from backpropagation and the numerical approximation of the gradient (computed using forward propagation).\n",
        "- Gradient checking is slow, so we don't run it in every iteration of training. You would usually run it only to make sure your code is correct, then turn it off and use backprop for the actual learning process. "
      ]
    },
    {
      "cell_type": "code",
      "metadata": {
        "collapsed": true,
        "id": "nH0X7S8jsorp"
      },
      "source": [
        ""
      ],
      "execution_count": null,
      "outputs": []
    }
  ]
}